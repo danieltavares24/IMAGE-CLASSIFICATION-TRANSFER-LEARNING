{
  "nbformat": 4,
  "nbformat_minor": 0,
  "metadata": {
    "colab": {
      "provenance": []
    },
    "kernelspec": {
      "name": "python3",
      "display_name": "Python 3"
    },
    "language_info": {
      "name": "python"
    }
  },
  "cells": [
    {
      "cell_type": "code",
      "execution_count": 1,
      "metadata": {
        "colab": {
          "base_uri": "https://localhost:8080/"
        },
        "id": "61AULbyJfjCY",
        "outputId": "90a53573-0827-4ab6-9733-f2b30a606074"
      },
      "outputs": [
        {
          "output_type": "stream",
          "name": "stdout",
          "text": [
            "6\n",
            "50,10,5,85\n",
            "20,5,8,67\n",
            "30,12,4,88\n",
            "\n",
            "\n",
            "\n",
            "Index: 0\n",
            "Accuracy: 0.9\n"
          ]
        }
      ],
      "source": [
        "def main() -> None:\n",
        "    \"\"\"\n",
        "    Lê n matrizes de confusão e determina qual delas possui a maior acurácia.\n",
        "    \"\"\"\n",
        "\n",
        "    # Tenta ler a quantidade de matrizes. Trata o caso de entrada vazia.\n",
        "    try:\n",
        "        n_input = input().strip()\n",
        "        if not n_input:\n",
        "            # Se a primeira linha estiver vazia, não há o que fazer.\n",
        "            return\n",
        "        n = int(n_input)\n",
        "    except (ValueError, IndexError):\n",
        "        # Se a entrada não for um número válido, encerra.\n",
        "        return\n",
        "\n",
        "    best_accuracy = -1.0  # Armazena a melhor acurácia encontrada\n",
        "    best_index = -1       # Armazena o índice da matriz com a melhor acurácia\n",
        "\n",
        "    # Itera sobre cada uma das n matrizes\n",
        "    for idx in range(n):\n",
        "        try:\n",
        "            # Lê a linha com os valores TP, FP, FN, TN\n",
        "            line = input().strip()\n",
        "            if not line:\n",
        "                # Pula linhas vazias, se houver\n",
        "                continue\n",
        "\n",
        "            tp, fp, fn, tn = map(int, line.split(','))\n",
        "\n",
        "            # Calcula a acurácia da matriz atual\n",
        "            # Adiciona uma verificação para evitar divisão por zero, embora improvável no contexto do problema.\n",
        "            total = tp + fp + fn + tn\n",
        "            if total == 0:\n",
        "                accuracy = 0.0\n",
        "            else:\n",
        "                accuracy = (tp + tn) / total\n",
        "\n",
        "            # Se a acurácia atual for a maior encontrada até agora, atualiza os valores\n",
        "            if accuracy > best_accuracy:\n",
        "                best_accuracy = accuracy\n",
        "                best_index = idx\n",
        "\n",
        "        except (ValueError, IndexError):\n",
        "            # Se uma linha estiver mal formatada, ignora e continua para a próxima\n",
        "            continue\n",
        "\n",
        "    # Se ao menos uma matriz válida foi processada\n",
        "    if best_index != -1:\n",
        "        # Formata a acurácia para duas casas decimais e remove zeros finais desnecessários\n",
        "        # Ex: 1.00 -> \"1.00\" -> \"1.\" -> \"1\"\n",
        "        # Ex: 0.95 -> \"0.95\" -> \"0.95\"\n",
        "        # Ex: 0.90 -> \"0.90\" -> \"0.9\"\n",
        "        accuracy_str = f\"{best_accuracy:.2f}\".rstrip('0').rstrip('.')\n",
        "\n",
        "        # Imprime o resultado final no formato solicitado\n",
        "        print(f\"Index: {best_index}\")\n",
        "        print(f\"Accuracy: {accuracy_str}\")\n",
        "\n",
        "if __name__ == \"__main__\":\n",
        "    main()"
      ]
    }
  ]
}